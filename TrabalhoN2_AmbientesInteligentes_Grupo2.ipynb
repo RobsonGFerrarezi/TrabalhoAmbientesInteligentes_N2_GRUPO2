{
  "nbformat": 4,
  "nbformat_minor": 0,
  "metadata": {
    "colab": {
      "provenance": [],
      "authorship_tag": "ABX9TyMDWyv9QbEEjbF3o+maF6+r",
      "include_colab_link": true
    },
    "kernelspec": {
      "name": "python3",
      "display_name": "Python 3"
    },
    "language_info": {
      "name": "python"
    }
  },
  "cells": [
    {
      "cell_type": "markdown",
      "metadata": {
        "id": "view-in-github",
        "colab_type": "text"
      },
      "source": [
        "<a href=\"https://colab.research.google.com/github/RobsonGFerrarezi/TrabalhoAmbientesInteligentes_N2_GRUPO2/blob/main/TrabalhoN2_AmbientesInteligentes_Grupo2.ipynb\" target=\"_parent\"><img src=\"https://colab.research.google.com/assets/colab-badge.svg\" alt=\"Open In Colab\"/></a>"
      ]
    },
    {
      "cell_type": "markdown",
      "source": [
        "<a rel=\"license\" href=\"https://faculdadesalvadorarena.org.br/\"><img alt=\"FESA\" style=\"border-width:0\" src=\"https://faculdadesalvadorarena.org.br/wp-content/uploads/2022/07/logo_fesa.png\" /></a><br />\n",
        "**FESA - Eletiva II (2025.1)** <br/>\n",
        "<br/>\n",
        "**Avaliação N2** <br/>\n",
        "<br/>\n",
        "Aluno(a): BEATRIZ DOS SANTOS BUGLIO <br/>\n",
        "Aluno(a): KAUÊ DOS SANTOS ANDRADE <br/>\n",
        "Aluno(a): ROBSON GUILHERME FERRAREZI <br/>\n",
        "Aluno(a): RODRIGO MORO BATALHA\n"
      ],
      "metadata": {
        "id": "z9m6LyctPZMG"
      }
    },
    {
      "cell_type": "markdown",
      "source": [
        "\n",
        "\n",
        "---\n",
        "\n",
        "Este notebook tem como função, análise e tratamento de dados de 4 Data Frames diferentes. Vamos ler o arquivo, ver o tipo de dados, quantidade de dados, e responder algumas perguntas.\n",
        "<br/><br/>\n",
        "Isso vai ser feito com a biblioteca Pandas."
      ],
      "metadata": {
        "id": "TLassVnMQFkO"
      }
    },
    {
      "cell_type": "code",
      "execution_count": 2,
      "metadata": {
        "id": "b08OEyrYPS46"
      },
      "outputs": [],
      "source": [
        "#importando a biblioteca:\n",
        "import pandas as pd"
      ]
    },
    {
      "cell_type": "markdown",
      "source": [
        "Aqui vamos trazer os Data Frames"
      ],
      "metadata": {
        "id": "Q6xkUx-4Q2SC"
      }
    },
    {
      "cell_type": "code",
      "source": [
        "#Importando o Drive, para utilizar\n",
        "from google.colab import drive\n",
        "drive.mount('/content/drive')"
      ],
      "metadata": {
        "colab": {
          "base_uri": "https://localhost:8080/"
        },
        "id": "He_5hUtSRAXh",
        "outputId": "773d0b06-5c4c-4f3e-917d-08f875b38b32"
      },
      "execution_count": 3,
      "outputs": [
        {
          "output_type": "stream",
          "name": "stdout",
          "text": [
            "Mounted at /content/drive\n"
          ]
        }
      ]
    },
    {
      "cell_type": "code",
      "source": [],
      "metadata": {
        "id": "bi2XgrtWRPCI"
      },
      "execution_count": null,
      "outputs": []
    }
  ]
}